{
 "cells": [
  {
   "cell_type": "markdown",
   "id": "d8d6419a",
   "metadata": {},
   "source": [
    "## Image Recognition - Importing Libraries"
   ]
  },
  {
   "cell_type": "code",
   "execution_count": 1,
   "id": "0eb0e0a2",
   "metadata": {},
   "outputs": [],
   "source": [
    "# !pip install keras\n",
    "# !pip install tensorflow\n",
    "import numpy as np\n",
    "import matplotlib.pyplot as plt \n",
    "import random \n",
    "from keras.datasets import mnist\n",
    "from keras.models import Sequential\n",
    "from keras.layers.core import Dense, Dropout, Activation\n",
    "from keras.utils import np_utils"
   ]
  },
  {
   "cell_type": "markdown",
   "id": "c699e499",
   "metadata": {},
   "source": [
    "## Image Recognition- Data Loading"
   ]
  },
  {
   "cell_type": "code",
   "execution_count": 2,
   "id": "411ad198",
   "metadata": {},
   "outputs": [],
   "source": [
    "# Here i am loading the data into variables\n",
    "(X_train, y_train), (X_test, y_test) = mnist.load_data()"
   ]
  },
  {
   "cell_type": "code",
   "execution_count": 3,
   "id": "980de694",
   "metadata": {},
   "outputs": [
    {
     "name": "stdout",
     "output_type": "stream",
     "text": [
      "Shape of X_train is :  (60000, 28, 28)\n"
     ]
    }
   ],
   "source": [
    "#Shape of Data \n",
    "print(\"Shape of X_train is : \",X_train.shape)"
   ]
  },
  {
   "cell_type": "code",
   "execution_count": 4,
   "id": "ee4691dc",
   "metadata": {},
   "outputs": [],
   "source": [
    "# Here i am flating or reshaping the images\n",
    "X_train = X_train.reshape(60000, 784)\n",
    "X_test = X_test.reshape(10000, 784)\n",
    "\n",
    "# Here i am changing the test & training images to floating point\n",
    "X_train = X_train.astype('float32')\n",
    "X_test = X_test.astype('float32')"
   ]
  },
  {
   "cell_type": "code",
   "execution_count": 5,
   "id": "4327ff47",
   "metadata": {},
   "outputs": [],
   "source": [
    "# Here i am normalizing the data \n",
    "X_train /= 255\n",
    "X_test /= 255"
   ]
  },
  {
   "cell_type": "code",
   "execution_count": 6,
   "id": "a8127dba",
   "metadata": {},
   "outputs": [
    {
     "name": "stdout",
     "output_type": "stream",
     "text": [
      "Training Matrix shape is :  (60000, 784)\n",
      "Testing Matrix shape is :  (10000, 784)\n"
     ]
    }
   ],
   "source": [
    "#Shape of matix \n",
    "print(\"Training Matrix shape is : \", X_train.shape)\n",
    "print(\"Testing Matrix shape is : \", X_test.shape)"
   ]
  },
  {
   "cell_type": "code",
   "execution_count": 7,
   "id": "b0ae417a",
   "metadata": {},
   "outputs": [],
   "source": [
    "nb_classes = 10\n",
    "Y_train = np_utils.to_categorical(y_train,nb_classes)\n",
    "Y_test = np_utils.to_categorical(y_test,nb_classes)"
   ]
  },
  {
   "cell_type": "markdown",
   "id": "ca3e41bc",
   "metadata": {},
   "source": [
    "## Model Development"
   ]
  },
  {
   "cell_type": "code",
   "execution_count": 8,
   "id": "b1a5a45d",
   "metadata": {},
   "outputs": [
    {
     "name": "stdout",
     "output_type": "stream",
     "text": [
      "Model: \"sequential\"\n",
      "_________________________________________________________________\n",
      " Layer (type)                Output Shape              Param #   \n",
      "=================================================================\n",
      " dense (Dense)               (None, 512)               401920    \n",
      "                                                                 \n",
      " activation (Activation)     (None, 512)               0         \n",
      "                                                                 \n",
      " dropout (Dropout)           (None, 512)               0         \n",
      "                                                                 \n",
      " dense_1 (Dense)             (None, 512)               262656    \n",
      "                                                                 \n",
      " activation_1 (Activation)   (None, 512)               0         \n",
      "                                                                 \n",
      " dropout_1 (Dropout)         (None, 512)               0         \n",
      "                                                                 \n",
      " dense_2 (Dense)             (None, 10)                5130      \n",
      "                                                                 \n",
      " activation_2 (Activation)   (None, 10)                0         \n",
      "                                                                 \n",
      "=================================================================\n",
      "Total params: 669,706\n",
      "Trainable params: 669,706\n",
      "Non-trainable params: 0\n",
      "_________________________________________________________________\n"
     ]
    }
   ],
   "source": [
    "#Here i am developing Model\n",
    "model = Sequential()\n",
    "\n",
    "# Adding First Hidden Layer\n",
    "model.add(Dense(512, input_shape=(784,)))\n",
    "\n",
    "# Activation Function \n",
    "model.add(Activation('relu'))\n",
    "\n",
    "# Dropout\n",
    "model.add(Dropout(0.2))\n",
    "\n",
    "#Adding 2nd Hidden Layer, Activation & Dropout\n",
    "model.add(Dense(512))\n",
    "model.add(Activation('relu'))\n",
    "model.add(Dropout(0.2))\n",
    "\n",
    "# Final or Output Layer of Model\n",
    "model.add(Dense(10))\n",
    "model.add(Activation('softmax'))\n",
    "\n",
    "# Model Summary\n",
    "model.summary()"
   ]
  },
  {
   "cell_type": "markdown",
   "id": "2ac24e26",
   "metadata": {},
   "source": [
    "## Modeling The Complier"
   ]
  },
  {
   "cell_type": "code",
   "execution_count": 10,
   "id": "b37182a0",
   "metadata": {},
   "outputs": [
    {
     "name": "stdout",
     "output_type": "stream",
     "text": [
      "Epoch 1/5\n",
      "469/469 [==============================] - 11s 22ms/step - loss: 0.0449 - accuracy: 0.98540s - loss: - ETA: 0s - loss: 0.0449 - accuracy: \n",
      "Epoch 2/5\n",
      "469/469 [==============================] - 11s 22ms/step - loss: 0.0352 - accuracy: 0.9886\n",
      "Epoch 3/5\n",
      "469/469 [==============================] - 10s 22ms/step - loss: 0.0311 - accuracy: 0.9892\n",
      "Epoch 4/5\n",
      "469/469 [==============================] - 11s 23ms/step - loss: 0.0301 - accuracy: 0.9901\n",
      "Epoch 5/5\n",
      "469/469 [==============================] - 11s 24ms/step - loss: 0.0242 - accuracy: 0.9923\n",
      "313/313 [==============================] - 2s 5ms/step - loss: 0.0643 - accuracy: 0.9836\n",
      "Test Score:  0.06434804946184158\n",
      "Test Accuracy:  0.9836000204086304\n"
     ]
    }
   ],
   "source": [
    "model.compile(loss='categorical_crossentropy', optimizer='adam', metrics=['accuracy'])\n",
    "\n",
    "# Model Training\n",
    "model.fit(X_train, Y_train,\n",
    "         batch_size=128, epochs=5,\n",
    "         verbose=1)\n",
    "\n",
    "# Evaluating the Model\n",
    "score = model.evaluate(X_test, Y_test)\n",
    "print('Test Score: ', score[0])\n",
    "print('Test Accuracy: ', score[1])"
   ]
  },
  {
   "cell_type": "code",
   "execution_count": null,
   "id": "0f73a2e3",
   "metadata": {},
   "outputs": [],
   "source": []
  }
 ],
 "metadata": {
  "kernelspec": {
   "display_name": "Python 3",
   "language": "python",
   "name": "python3"
  },
  "language_info": {
   "codemirror_mode": {
    "name": "ipython",
    "version": 3
   },
   "file_extension": ".py",
   "mimetype": "text/x-python",
   "name": "python",
   "nbconvert_exporter": "python",
   "pygments_lexer": "ipython3",
   "version": "3.8.8"
  }
 },
 "nbformat": 4,
 "nbformat_minor": 5
}
