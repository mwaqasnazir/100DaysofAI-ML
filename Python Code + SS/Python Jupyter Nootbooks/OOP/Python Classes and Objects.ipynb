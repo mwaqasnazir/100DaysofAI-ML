{
 "cells": [
  {
   "cell_type": "markdown",
   "metadata": {},
   "source": [
    "## Python Classes and Objects"
   ]
  },
  {
   "cell_type": "code",
   "execution_count": 4,
   "metadata": {},
   "outputs": [],
   "source": [
    "class Mobile:\n",
    "    \n",
    "    def set_Name(self,name):\n",
    "        self.name= name\n",
    "    \n",
    "    def get_Name(self):\n",
    "        print(self.name)\n",
    "    \n",
    "    def make_Call(self):\n",
    "        output = \"Making a call from mobile\"\n",
    "        print(output.upper())\n",
    "        \n",
    "    def take_Photo(self):\n",
    "        output = \"Taking Photographs using mobile\"\n",
    "        print(output.upper())\n",
    "\n",
    "    def play_Game(self):\n",
    "        output = \"Playing a game on mobile\"\n",
    "        print(output.upper())"
   ]
  },
  {
   "cell_type": "code",
   "execution_count": 6,
   "metadata": {},
   "outputs": [
    {
     "name": "stdout",
     "output_type": "stream",
     "text": [
      "Enter The Name of Your Mobile :Apple\n",
      "Apple\n"
     ]
    }
   ],
   "source": [
    "user1 = Mobile()\n",
    "\n",
    "user1.set_Name(input(\"Enter The Name of Your Mobile :\" ,))\n",
    "user1.get_Name()"
   ]
  },
  {
   "cell_type": "code",
   "execution_count": 7,
   "metadata": {},
   "outputs": [
    {
     "name": "stdout",
     "output_type": "stream",
     "text": [
      "MAKING A CALL FROM MOBILE\n"
     ]
    }
   ],
   "source": [
    "user2 = Mobile()\n",
    "\n",
    "user2.make_Call()"
   ]
  },
  {
   "cell_type": "code",
   "execution_count": null,
   "metadata": {},
   "outputs": [],
   "source": []
  }
 ],
 "metadata": {
  "kernelspec": {
   "display_name": "Python 3",
   "language": "python",
   "name": "python3"
  }
 },
 "nbformat": 4,
 "nbformat_minor": 4
}
