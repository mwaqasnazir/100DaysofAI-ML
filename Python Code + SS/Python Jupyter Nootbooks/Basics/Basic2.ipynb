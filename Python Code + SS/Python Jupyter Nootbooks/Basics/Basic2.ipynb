{
 "cells": [
  {
   "cell_type": "markdown",
   "metadata": {},
   "source": [
    "## Python Basic 2"
   ]
  },
  {
   "cell_type": "code",
   "execution_count": 2,
   "metadata": {},
   "outputs": [
    {
     "name": "stdout",
     "output_type": "stream",
     "text": [
      "Enter First Number: 34\n",
      "Enter Second Number: 78\n",
      "Second Number is Greater\n"
     ]
    }
   ],
   "source": [
    "num1= input(\"Enter First Number: \")\n",
    "num2= input(\"Enter Second Number: \")\n",
    "\n",
    "if(num1>num2):\n",
    "    print(\"First Number is Greather\")\n",
    "else:\n",
    "    print(\"Second Number is Greater\")\n"
   ]
  },
  {
   "cell_type": "code",
   "execution_count": 4,
   "metadata": {},
   "outputs": [
    {
     "name": "stdout",
     "output_type": "stream",
     "text": [
      "Enter Your Age: 23\n",
      "You are a adult\n"
     ]
    }
   ],
   "source": [
    "age= int (input(\"Enter Your Age: \"))\n",
    "def AgeCalc(age):\n",
    "    if(age<13):\n",
    "        print(\"You are a child\")\n",
    "    elif(age>13 and age<=19):\n",
    "        print(\"You are a Teenager\")\n",
    "    else:\n",
    "        print(\"You are a adult\")\n",
    "        \n",
    "AgeCalc(age)"
   ]
  },
  {
   "cell_type": "code",
   "execution_count": 5,
   "metadata": {},
   "outputs": [
    {
     "name": "stdout",
     "output_type": "stream",
     "text": [
      "Python Keywords List\n",
      "['False', 'None', 'True', 'and', 'as', 'assert', 'async', 'await', 'break', 'class', 'continue', 'def', 'del', 'elif', 'else', 'except', 'finally', 'for', 'from', 'global', 'if', 'import', 'in', 'is', 'lambda', 'nonlocal', 'not', 'or', 'pass', 'raise', 'return', 'try', 'while', 'with', 'yield']\n"
     ]
    }
   ],
   "source": [
    "import keyword\n",
    "print(\"Python Keywords List\")\n",
    "print(keyword.kwlist)"
   ]
  },
  {
   "cell_type": "code",
   "execution_count": null,
   "metadata": {},
   "outputs": [],
   "source": []
  }
 ],
 "metadata": {
  "kernelspec": {
   "display_name": "Python 3",
   "language": "python",
   "name": "python3"
  },
  "language_info": {
   "codemirror_mode": {
    "name": "ipython",
    "version": 3
   },
   "file_extension": ".py",
   "mimetype": "text/x-python",
   "name": "python",
   "nbconvert_exporter": "python",
   "pygments_lexer": "ipython3",
   "version": "3.8.5"
  }
 },
 "nbformat": 4,
 "nbformat_minor": 4
}
