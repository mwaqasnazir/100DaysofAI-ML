{
 "cells": [
  {
   "cell_type": "markdown",
   "metadata": {},
   "source": [
    "## Use of  if __name__ == \"__main__\" In Python"
   ]
  },
  {
   "cell_type": "code",
   "execution_count": 5,
   "metadata": {},
   "outputs": [
    {
     "name": "stdout",
     "output_type": "stream",
     "text": [
      "11\n",
      "3\n",
      "4.0\n",
      "4\n"
     ]
    }
   ],
   "source": [
    "import Module\n",
    "\n",
    "def main():\n",
    "    add(5,6)\n",
    "    subtract(6,3)\n",
    "    divide(8,2)\n",
    "    multiply(2,2)\n",
    "\n",
    "if __name__ == \"__main__\":\n",
    "    main()\n"
   ]
  },
  {
   "cell_type": "code",
   "execution_count": 6,
   "metadata": {},
   "outputs": [
    {
     "name": "stdout",
     "output_type": "stream",
     "text": [
      "3\n",
      "4.0\n"
     ]
    }
   ],
   "source": [
    "# Simple Modules \n",
    "\n",
    "def add(x, y):\n",
    "    print (x+y)\n",
    "    \n",
    "def subtract(x, y):\n",
    "    print (x-y)\n",
    "\n",
    "def divide(x, y):\n",
    "    print (x/y)\n",
    "\n",
    "def multiply(x, y):\n",
    "    print (x*y)\n",
    "    \n",
    "def main():\n",
    "    subtract(6,3)\n",
    "    divide(8,2)\n",
    "    \n",
    "if __name__ == \"__main__\":\n",
    "    main()"
   ]
  },
  {
   "cell_type": "code",
   "execution_count": null,
   "metadata": {},
   "outputs": [],
   "source": []
  }
 ],
 "metadata": {
  "kernelspec": {
   "display_name": "Python 3",
   "language": "python",
   "name": "python3"
  },
  "language_info": {
   "codemirror_mode": {
    "name": "ipython",
    "version": 3
   },
   "file_extension": ".py",
   "mimetype": "text/x-python",
   "name": "python",
   "nbconvert_exporter": "python",
   "pygments_lexer": "ipython3",
   "version": "3.8.5"
  }
 },
 "nbformat": 4,
 "nbformat_minor": 4
}
