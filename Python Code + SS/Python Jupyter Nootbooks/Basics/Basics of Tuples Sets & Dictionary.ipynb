{
 "cells": [
  {
   "cell_type": "markdown",
   "metadata": {},
   "source": [
    "## Basics of Tuples"
   ]
  },
  {
   "cell_type": "code",
   "execution_count": 1,
   "metadata": {},
   "outputs": [
    {
     "name": "stdout",
     "output_type": "stream",
     "text": [
      "Initial empty Tuple: \n",
      "()\n",
      "\n",
      "Tuple using List: \n",
      "[1, 2, 4, 5, 6]\n"
     ]
    }
   ],
   "source": [
    "#Creating an empty Tuple\n",
    "Tuple1 = ()\n",
    "print(\"Initial empty Tuple: \")\n",
    "print (Tuple1)\n",
    " \n",
    "# Creating a Tuple with\n",
    "# the use of list\n",
    "Tuple2 = [1, 2, 4, 5, 6]\n",
    "print(\"\\nTuple using List: \")\n",
    "print(Tuple2)"
   ]
  },
  {
   "cell_type": "markdown",
   "metadata": {},
   "source": [
    "## Basics of Sets"
   ]
  },
  {
   "cell_type": "code",
   "execution_count": 4,
   "metadata": {},
   "outputs": [
    {
     "name": "stdout",
     "output_type": "stream",
     "text": [
      "Initial blank Set: \n",
      "set()\n",
      "\n",
      "Set with the use of Numbers: \n",
      "{1, 2, 3, 4, 5, 6}\n"
     ]
    }
   ],
   "source": [
    "# Creating a Set\n",
    "set1 = set()\n",
    "print(\"Initial blank Set: \")\n",
    "print(set1)\n",
    " \n",
    "\n",
    "set1 = set([1, 2, 4, 4, 3, 3, 3, 6, 5])\n",
    "print(\"\\nSet with the use of Numbers: \")\n",
    "print(set1)"
   ]
  },
  {
   "cell_type": "markdown",
   "metadata": {},
   "source": [
    "## Basics of Dictionary"
   ]
  },
  {
   "cell_type": "code",
   "execution_count": 5,
   "metadata": {},
   "outputs": [
    {
     "name": "stdout",
     "output_type": "stream",
     "text": [
      "Empty Dictionary: \n",
      "{}\n",
      "\n",
      "Dictionary with the use of dict(): \n",
      "{1: 'Do', 2: 'or', 3: 'Die'}\n"
     ]
    }
   ],
   "source": [
    "# Creating an empty Dictionary\n",
    "Dict = {}\n",
    "print(\"Empty Dictionary: \")\n",
    "print(Dict)\n",
    " \n",
    "# Creating a Dictionary\n",
    "# with dict() method\n",
    "Dict = dict({1: 'Do', 2: 'or', 3:'Die'})\n",
    "print(\"\\nDictionary with the use of dict(): \")\n",
    "print(Dict)"
   ]
  },
  {
   "cell_type": "code",
   "execution_count": null,
   "metadata": {},
   "outputs": [],
   "source": []
  }
 ],
 "metadata": {
  "kernelspec": {
   "display_name": "Python 3",
   "language": "python",
   "name": "python3"
  },
  "language_info": {
   "codemirror_mode": {
    "name": "ipython",
    "version": 3
   },
   "file_extension": ".py",
   "mimetype": "text/x-python",
   "name": "python",
   "nbconvert_exporter": "python",
   "pygments_lexer": "ipython3",
   "version": "3.8.5"
  }
 },
 "nbformat": 4,
 "nbformat_minor": 4
}
