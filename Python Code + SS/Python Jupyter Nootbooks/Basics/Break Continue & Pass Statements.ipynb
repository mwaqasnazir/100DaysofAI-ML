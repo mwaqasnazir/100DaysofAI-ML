{
 "cells": [
  {
   "cell_type": "markdown",
   "metadata": {},
   "source": [
    "## Break statement"
   ]
  },
  {
   "cell_type": "code",
   "execution_count": 3,
   "metadata": {},
   "outputs": [
    {
     "name": "stdout",
     "output_type": "stream",
     "text": [
      "m\n",
      "w\n",
      "a\n",
      "q\n",
      "a\n",
      "s\n",
      "Out of for loop\n",
      "\n"
     ]
    }
   ],
   "source": [
    "w = 'mwaqasnazir'\n",
    "for letter in s:\n",
    "  \n",
    "    print(letter)\n",
    "    # break the loop as soon it sees 's' or 'n'\n",
    "    if letter == 's' or letter == 'n':\n",
    "        break\n",
    "  \n",
    "print(\"Out of for loop\")\n",
    "print()"
   ]
  },
  {
   "cell_type": "markdown",
   "metadata": {},
   "source": [
    "## Continue statement"
   ]
  },
  {
   "cell_type": "code",
   "execution_count": 7,
   "metadata": {},
   "outputs": [
    {
     "name": "stdout",
     "output_type": "stream",
     "text": [
      "1 3 5 6 7 8 9 10 "
     ]
    }
   ],
   "source": [
    "# loop from 1 to 10\n",
    "for i in range(1, 11):\n",
    " \n",
    "    # If i is equals to 6,\n",
    "    # continue to next iteration\n",
    "    # without printing\n",
    "    if i == 2 or i == 4:\n",
    "        continue\n",
    "    else:\n",
    "        # otherwise print the value\n",
    "        # of i\n",
    "        print(i, end=\" \")"
   ]
  },
  {
   "cell_type": "markdown",
   "metadata": {},
   "source": [
    "## Pass statement"
   ]
  },
  {
   "cell_type": "code",
   "execution_count": 8,
   "metadata": {},
   "outputs": [],
   "source": [
    "a = 10\n",
    "b = 20\n",
    " \n",
    "if(a<b):\n",
    "  pass\n",
    "else:\n",
    "  print(\"b<a\")"
   ]
  },
  {
   "cell_type": "code",
   "execution_count": null,
   "metadata": {},
   "outputs": [],
   "source": []
  }
 ],
 "metadata": {
  "kernelspec": {
   "display_name": "Python 3",
   "language": "python",
   "name": "python3"
  },
  "language_info": {
   "codemirror_mode": {
    "name": "ipython",
    "version": 3
   },
   "file_extension": ".py",
   "mimetype": "text/x-python",
   "name": "python",
   "nbconvert_exporter": "python",
   "pygments_lexer": "ipython3",
   "version": "3.8.5"
  }
 },
 "nbformat": 4,
 "nbformat_minor": 4
}
