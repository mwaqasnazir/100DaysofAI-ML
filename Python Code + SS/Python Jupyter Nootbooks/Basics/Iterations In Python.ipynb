{
 "cells": [
  {
   "cell_type": "markdown",
   "metadata": {},
   "source": [
    "## Iterations In Python"
   ]
  },
  {
   "cell_type": "markdown",
   "metadata": {},
   "source": [
    "## While Loop"
   ]
  },
  {
   "cell_type": "code",
   "execution_count": 20,
   "metadata": {},
   "outputs": [
    {
     "name": "stdout",
     "output_type": "stream",
     "text": [
      "Num 1\n",
      "Num 2\n",
      "Num 3\n"
     ]
    }
   ],
   "source": [
    "i = 1\n",
    "while (i < 4):\n",
    "    print(\"Num\", i)\n",
    "    i += 1"
   ]
  },
  {
   "cell_type": "code",
   "execution_count": 6,
   "metadata": {},
   "outputs": [
    {
     "name": "stdout",
     "output_type": "stream",
     "text": [
      "Guess a Number: 2\n",
      "Guess a Number: 3\n",
      "Guess a Number: 5\n",
      "You Guess the Number !\n",
      "Yow Win !\n"
     ]
    }
   ],
   "source": [
    "#Iteration by while loop for a condition\n",
    "# Guessing Game\n",
    "\n",
    "i=0  #its just like chances\n",
    "n=5\n",
    "while (i<3):\n",
    "    n2= int (input(\"Guess a Number: \"))\n",
    "    if(n2 == n):\n",
    "        i=3\n",
    "        print(\"You Guess the Number !\")\n",
    "    else:\n",
    "        i +=1\n",
    "if(i==3 and n==n2):\n",
    "    print(\"Yow Win !\")\n",
    "else:\n",
    "    print(\"Game is over!\")"
   ]
  },
  {
   "cell_type": "markdown",
   "metadata": {},
   "source": [
    "## For Loop"
   ]
  },
  {
   "cell_type": "code",
   "execution_count": 13,
   "metadata": {
    "scrolled": true
   },
   "outputs": [
    {
     "name": "stdout",
     "output_type": "stream",
     "text": [
      "Enter Your Name: Wicky\n",
      "W\n",
      "i\n",
      "c\n",
      "k\n",
      "y\n"
     ]
    }
   ],
   "source": [
    "# Iteration by for loop on strings\n",
    "name = input(\"Enter Your Name: \")\n",
    "for i in name :\n",
    "    print (i)"
   ]
  },
  {
   "cell_type": "code",
   "execution_count": 14,
   "metadata": {},
   "outputs": [
    {
     "name": "stdout",
     "output_type": "stream",
     "text": [
      "2\n",
      "4\n",
      "6\n",
      "8\n",
      "10\n"
     ]
    }
   ],
   "source": [
    "# Iteration by for loop on list\n",
    "even_num = [2, 4, 6, 8, 10]\n",
    "for  i in even_num:\n",
    "    print (i)"
   ]
  },
  {
   "cell_type": "code",
   "execution_count": 10,
   "metadata": {},
   "outputs": [
    {
     "name": "stdout",
     "output_type": "stream",
     "text": [
      "Guess a Number: 4\n",
      "Guess a Number: 6\n",
      "Guess a Number: 5\n",
      "You Guess the Number !\n",
      "Yow Win !\n"
     ]
    }
   ],
   "source": [
    "#Iteration by For loop for a condition\n",
    "# Guessing Game\n",
    "\n",
    "i=0  #its just like chances\n",
    "n=5\n",
    "\n",
    "for i in range(3):\n",
    "    \n",
    "    n2= int (input(\"Guess a Number: \"))\n",
    "    if(n2 == n):\n",
    "        i=3\n",
    "        print(\"You Guess the Number !\")\n",
    "    else:\n",
    "        i +=1\n",
    "        \n",
    "if(i==3 and n==n2):\n",
    "    print(\"Yow Win !\")\n",
    "else:\n",
    "    print(\"Game is over!\")\n",
    "    "
   ]
  },
  {
   "cell_type": "code",
   "execution_count": null,
   "metadata": {},
   "outputs": [],
   "source": []
  }
 ],
 "metadata": {
  "kernelspec": {
   "display_name": "Python 3",
   "language": "python",
   "name": "python3"
  },
  "language_info": {
   "codemirror_mode": {
    "name": "ipython",
    "version": 3
   },
   "file_extension": ".py",
   "mimetype": "text/x-python",
   "name": "python",
   "nbconvert_exporter": "python",
   "pygments_lexer": "ipython3",
   "version": "3.8.5"
  }
 },
 "nbformat": 4,
 "nbformat_minor": 4
}
