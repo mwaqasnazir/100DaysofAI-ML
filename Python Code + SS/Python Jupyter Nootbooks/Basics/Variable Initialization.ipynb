{
 "cells": [
  {
   "cell_type": "markdown",
   "metadata": {},
   "source": [
    "### Direct Initialisation Method"
   ]
  },
  {
   "cell_type": "code",
   "execution_count": 3,
   "metadata": {},
   "outputs": [
    {
     "name": "stdout",
     "output_type": "stream",
     "text": [
      "The value of a is: 5\n"
     ]
    }
   ],
   "source": [
    "# initialising variable directly\n",
    "a = 5\n",
    " \n",
    "# printing value of a\n",
    "print (\"The value of a is: \" + str(a))  #here i am using str for concatination a int variable in string statment"
   ]
  },
  {
   "cell_type": "markdown",
   "metadata": {},
   "source": [
    "### Using Conditional Operator (?:)"
   ]
  },
  {
   "cell_type": "code",
   "execution_count": 6,
   "metadata": {},
   "outputs": [
    {
     "name": "stdout",
     "output_type": "stream",
     "text": [
      "The value of b is:  15\n"
     ]
    }
   ],
   "source": [
    "# Initialising variables using Conditional Operator\n",
    "b = 15 if 20 > 10 else 0\n",
    "print(\"The value of b is: \" , str(b))"
   ]
  },
  {
   "cell_type": "markdown",
   "metadata": {},
   "source": [
    "### One liner if-else instead of Conditional Operator"
   ]
  },
  {
   "cell_type": "code",
   "execution_count": 7,
   "metadata": {},
   "outputs": [
    {
     "name": "stdout",
     "output_type": "stream",
     "text": [
      "The value of c is: 15\n"
     ]
    }
   ],
   "source": [
    "# initialising variable using one liner if-else\n",
    "c = 12 if 20 > 10 else 0\n",
    "print (\"The value of c is: \" + str(a))"
   ]
  },
  {
   "cell_type": "code",
   "execution_count": null,
   "metadata": {},
   "outputs": [],
   "source": []
  }
 ],
 "metadata": {
  "kernelspec": {
   "display_name": "Python 3",
   "language": "python",
   "name": "python3"
  },
  "language_info": {
   "codemirror_mode": {
    "name": "ipython",
    "version": 3
   },
   "file_extension": ".py",
   "mimetype": "text/x-python",
   "name": "python",
   "nbconvert_exporter": "python",
   "pygments_lexer": "ipython3",
   "version": "3.8.5"
  }
 },
 "nbformat": 4,
 "nbformat_minor": 4
}
