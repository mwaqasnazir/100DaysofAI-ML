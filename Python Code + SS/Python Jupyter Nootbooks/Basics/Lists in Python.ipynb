{
 "cells": [
  {
   "cell_type": "markdown",
   "metadata": {},
   "source": [
    "## Lists in Python"
   ]
  },
  {
   "cell_type": "code",
   "execution_count": 4,
   "metadata": {},
   "outputs": [
    {
     "name": "stdout",
     "output_type": "stream",
     "text": [
      "\n",
      "List of numbers: \n",
      "[10, 20, 14]\n",
      "\n",
      "List Items: \n",
      "Proud\n",
      "Muslim\n",
      "\n",
      "Multi-Dimensional List: \n",
      "[['Proud'], ['To Be A'], ['Muslim']]\n"
     ]
    }
   ],
   "source": [
    "# Creating a List of numbers\n",
    "List = [10, 20, 14]\n",
    "print(\"\\nList of numbers: \")\n",
    "print(List)\n",
    "  \n",
    "# Creating a List of strings and accessing\n",
    "# using index\n",
    "List = [\"Proud\", \"To Be A \", \"Muslim\"]\n",
    "print(\"\\nList Items: \")\n",
    "print(List[0]) \n",
    "print(List[2])\n",
    "  \n",
    "# Creating a Multi-Dimensional List\n",
    "# (By Nesting a list inside a List)\n",
    "List = [['Proud'], ['To Be A'] , ['Muslim']]\n",
    "print(\"\\nMulti-Dimensional List: \")\n",
    "print(List)"
   ]
  },
  {
   "cell_type": "markdown",
   "metadata": {},
   "source": [
    "## List With Mix Values "
   ]
  },
  {
   "cell_type": "code",
   "execution_count": 9,
   "metadata": {},
   "outputs": [
    {
     "name": "stdout",
     "output_type": "stream",
     "text": [
      "\n",
      "List with the use of Mixed Values: \n",
      "[1, 2, 'Proud', 4, 'To Be A', 6, 'Muslim']\n"
     ]
    }
   ],
   "source": [
    "# mixed type of values\n",
    "List = [1, 2, 'Proud', 4, 'To Be A', 6, 'Muslim']\n",
    "print(\"\\nList with the use of Mixed Values: \")\n",
    "print(List)"
   ]
  },
  {
   "cell_type": "markdown",
   "metadata": {},
   "source": [
    "## Size of List  & Accessing Elements From List"
   ]
  },
  {
   "cell_type": "code",
   "execution_count": 8,
   "metadata": {},
   "outputs": [
    {
     "name": "stdout",
     "output_type": "stream",
     "text": [
      "3\n",
      "Accessing a element from the list\n",
      "10\n",
      "14\n",
      "Accessing a element from a Multi-Dimensional list\n",
      "For\n",
      "Geeks\n"
     ]
    }
   ],
   "source": [
    "# Finding Length of a List # accessing a element from the \n",
    "List = [10, 20, 14]\n",
    "print(len(List2))\n",
    "print(\"Accessing a element from the list\")\n",
    "print(List[0]) \n",
    "print(List[2])\n",
    "  \n",
    "# accessing an element from the \n",
    "# Multi-Dimensional List using\n",
    "List = [['Geeks', 'For'] , ['Geeks']]\n",
    "\n",
    "print(\"Accessing a element from a Multi-Dimensional list\")\n",
    "print(List[0][1])\n",
    "print(List[1][0])"
   ]
  },
  {
   "cell_type": "markdown",
   "metadata": {},
   "source": [
    "## Adding Elements From a List"
   ]
  },
  {
   "cell_type": "code",
   "execution_count": 33,
   "metadata": {},
   "outputs": [
    {
     "name": "stdout",
     "output_type": "stream",
     "text": [
      "Initial blank List: \n",
      "[]\n",
      "\n",
      "List after Addition of Two elements: \n",
      "['W']\n",
      "\n",
      "List after performing Extend Operation: \n",
      "['W', 2, 'Always', 'Smile']\n",
      "\n",
      "List after Addition of elements from 1-5: \n",
      "['W', 2, 'Always', 'Smile', 1, 2, 3, 4]\n",
      "\n",
      "List after performing Insert Operation: \n",
      "['Wicky', 'W', 2, 'Always', 12, 'Smile', 1, 2, 3, 4]\n",
      "\n",
      "List after Addition of a Tuple: \n",
      "['Wicky', 'W', 2, 'Always', 12, 'Smile', 1, 2, 3, 4, (5, 6)]\n",
      "\n",
      "List after Addition of a List: \n",
      "['Wicky', 'W', 2, 'Always', 12, 'Smile', 1, 2, 3, 4, (5, 6), [\"It's me\", 'Wicky']]\n"
     ]
    }
   ],
   "source": [
    "List = []\n",
    "print(\"Initial blank List: \")\n",
    "print(List)\n",
    "\n",
    "# Addition of Elements in the List Using Append\n",
    "List.append('W')\n",
    "print(\"\\nList after Addition of Two elements: \")\n",
    "print(List)\n",
    "\n",
    "# Addition of Elements in the List Using Extend\n",
    "List.extend([2, 'Always', 'Smile'])\n",
    "print(\"\\nList after performing Extend Operation: \")\n",
    "print(List)\n",
    "\n",
    "# Adding elements to the List using Iterator\n",
    "for i in range(1, 5):\n",
    "    List.append(i)\n",
    "print(\"\\nList after Addition of elements from 1-5: \")\n",
    "print(List)\n",
    "\n",
    "# Addition of Element at specific Position using Insert Method\n",
    "List.insert(3, 12)\n",
    "List.insert(0, 'Wicky')\n",
    "print(\"\\nList after performing Insert Operation: \")\n",
    "print(List)\n",
    "\n",
    "# Adding Tuples to the List\n",
    "List.append((5, 6))\n",
    "print(\"\\nList after Addition of a Tuple: \")\n",
    "print(List)\n",
    "\n",
    "# Addition of List to a List\n",
    "List2 = [\"It's me\" , 'Wicky']\n",
    "List.append(List2)\n",
    "print(\"\\nList after Addition of a List: \")\n",
    "print(List)"
   ]
  },
  {
   "cell_type": "markdown",
   "metadata": {},
   "source": [
    "##  Removing Elements From a List"
   ]
  },
  {
   "cell_type": "code",
   "execution_count": 46,
   "metadata": {},
   "outputs": [
    {
     "name": "stdout",
     "output_type": "stream",
     "text": [
      "\n",
      "List after Removal of one elements Using Pop: \n",
      "[1, 2, 3, 5, 6, 7]\n",
      "\n",
      "List after Removal of one elements Using Remove: \n",
      "[1, 2, 3, 5, 7]\n"
     ]
    }
   ],
   "source": [
    "\n",
    "List = [1,2,3,4,5,6,7]\n",
    "List.pop(3)\n",
    "print(\"\\nList after Removal of one elements Using Pop: \")\n",
    "print(List)\n",
    "\n",
    "\n",
    "List.remove(6)\n",
    "print(\"\\nList after Removal of one elements Using Remove: \")\n",
    "print(List)"
   ]
  },
  {
   "cell_type": "code",
   "execution_count": null,
   "metadata": {},
   "outputs": [],
   "source": []
  }
 ],
 "metadata": {
  "kernelspec": {
   "display_name": "Python 3",
   "language": "python",
   "name": "python3"
  },
  "language_info": {
   "codemirror_mode": {
    "name": "ipython",
    "version": 3
   },
   "file_extension": ".py",
   "mimetype": "text/x-python",
   "name": "python",
   "nbconvert_exporter": "python",
   "pygments_lexer": "ipython3",
   "version": "3.8.5"
  }
 },
 "nbformat": 4,
 "nbformat_minor": 4
}
