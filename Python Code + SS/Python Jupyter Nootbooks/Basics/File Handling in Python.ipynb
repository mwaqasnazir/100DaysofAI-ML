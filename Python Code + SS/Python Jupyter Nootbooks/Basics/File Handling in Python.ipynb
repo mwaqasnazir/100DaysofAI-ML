{
 "cells": [
  {
   "cell_type": "markdown",
   "metadata": {},
   "source": [
    "# File Handling in Python"
   ]
  },
  {
   "cell_type": "markdown",
   "metadata": {},
   "source": [
    "## Reading a File"
   ]
  },
  {
   "cell_type": "code",
   "execution_count": 27,
   "metadata": {},
   "outputs": [
    {
     "name": "stdout",
     "output_type": "stream",
     "text": [
      "Hy It's Me Muhammad Waqas Nazir.\n",
      "This is File Handling Practice.\n",
      "Using Python\n"
     ]
    }
   ],
   "source": [
    "file = open('myfile.txt', 'r')\n",
    "# This will print complete file\n",
    "print(file.read())"
   ]
  },
  {
   "cell_type": "code",
   "execution_count": 28,
   "metadata": {},
   "outputs": [
    {
     "name": "stdout",
     "output_type": "stream",
     "text": [
      "Hy It's Me Muhammad Waqas Nazir.\n",
      "\n",
      "This is File Handling Practice.\n",
      "\n",
      "Using Python\n"
     ]
    }
   ],
   "source": [
    "file = open('myfile.txt', 'r')\n",
    "\n",
    "# This will print every line one by one in the file\n",
    "for each in file:\n",
    "    print (each)"
   ]
  },
  {
   "cell_type": "code",
   "execution_count": 29,
   "metadata": {},
   "outputs": [
    {
     "name": "stdout",
     "output_type": "stream",
     "text": [
      "Hy It's Me Muhammad Waqas Nazir.\n",
      "This is File Handling Practice.\n",
      "Using Python\n"
     ]
    }
   ],
   "source": [
    "# Python code to illustrate with()  using this method any files opened\n",
    "# will be closed automatically after one is done, so auto-cleanup.\n",
    "with open(\"myfile.txt\") as file:  \n",
    "    data = file.read()\n",
    "print(data)"
   ]
  },
  {
   "cell_type": "markdown",
   "metadata": {},
   "source": [
    "## Creating a File"
   ]
  },
  {
   "cell_type": "code",
   "execution_count": 30,
   "metadata": {},
   "outputs": [],
   "source": [
    "# Python code to create a file\n",
    "file = open('myfile2.txt','w')\n",
    "file.write(\"This is the write command\")\n",
    "file.write(\"\\nIt allows us to write in a particular file\")\n",
    "file.close()"
   ]
  },
  {
   "cell_type": "code",
   "execution_count": 31,
   "metadata": {},
   "outputs": [
    {
     "name": "stdout",
     "output_type": "stream",
     "text": [
      "This is the write command\n",
      "It allows us to write in a particular file\n"
     ]
    }
   ],
   "source": [
    "# Here i am reading the above file which is writen by using write function\n",
    "file = open('myfile2.txt','r')\n",
    "print(file.read())"
   ]
  },
  {
   "cell_type": "code",
   "execution_count": 34,
   "metadata": {},
   "outputs": [
    {
     "name": "stdout",
     "output_type": "stream",
     "text": [
      "Hello World!!!\n"
     ]
    }
   ],
   "source": [
    "# Python code to illustrate with() alongwith write()\n",
    "with open(\"myfile3.txt\", \"w\") as f: \n",
    "    f.write(\"Hello World!!!\")\n",
    "    \n",
    "with open(\"myfile3.txt\",\"r\") as file:\n",
    "    result= file.read()\n",
    "    print(result)"
   ]
  },
  {
   "cell_type": "code",
   "execution_count": 39,
   "metadata": {},
   "outputs": [
    {
     "name": "stdout",
     "output_type": "stream",
     "text": [
      "['This', 'is', 'the', 'write', 'command']\n",
      "['It', 'allows', 'us', 'to', 'write', 'in', 'a', 'particular', 'file']\n"
     ]
    }
   ],
   "source": [
    "# Python code to illustrate Write, Read & Splits the text using split() function\n",
    "with open(\"myfile.text\", \"w+\") as file:\n",
    "    file.write(\"This is the write command\")\n",
    "    file.write(\"\\nIt allows us to write in a particular file\")\n",
    "with open(\"myfile.text\", \"r\") as file:\n",
    "    data = file.readlines()\n",
    "    for line in data:\n",
    "        word = line.split()\n",
    "        print (word)"
   ]
  },
  {
   "cell_type": "code",
   "execution_count": null,
   "metadata": {},
   "outputs": [],
   "source": []
  }
 ],
 "metadata": {
  "kernelspec": {
   "display_name": "Python 3",
   "language": "python",
   "name": "python3"
  },
  "language_info": {
   "codemirror_mode": {
    "name": "ipython",
    "version": 3
   },
   "file_extension": ".py",
   "mimetype": "text/x-python",
   "name": "python",
   "nbconvert_exporter": "python",
   "pygments_lexer": "ipython3",
   "version": "3.8.5"
  }
 },
 "nbformat": 4,
 "nbformat_minor": 4
}
