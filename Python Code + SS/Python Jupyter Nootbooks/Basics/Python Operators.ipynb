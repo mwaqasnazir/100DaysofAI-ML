{
 "cells": [
  {
   "cell_type": "markdown",
   "metadata": {},
   "source": [
    "# Python Operators"
   ]
  },
  {
   "cell_type": "markdown",
   "metadata": {},
   "source": [
    "## 1. Arithmetic Operators"
   ]
  },
  {
   "cell_type": "code",
   "execution_count": 20,
   "metadata": {},
   "outputs": [
    {
     "name": "stdout",
     "output_type": "stream",
     "text": [
      "10\n",
      "2\n",
      "20\n",
      "1.5\n",
      "1\n",
      "2\n",
      "1296\n"
     ]
    }
   ],
   "source": [
    "a=6\n",
    "b=4\n",
    "#addition & subtraction\n",
    "add = a+b\n",
    "sub=a-b\n",
    "\n",
    "# Multiplication \n",
    "mul = add*sub\n",
    "\n",
    "# Division(float)\n",
    "div1 = a / b\n",
    " \n",
    "# Division(floor)\n",
    "div2 = a // b\n",
    " \n",
    "# Modulo\n",
    "mod = a % b\n",
    " \n",
    "# Power\n",
    "p = a ** b\n",
    " \n",
    "# printing results\n",
    "print(add)\n",
    "print(sub)\n",
    "print(mul)\n",
    "print(div1)\n",
    "print(div2)\n",
    "print(mod)\n",
    "print(p)"
   ]
  },
  {
   "cell_type": "markdown",
   "metadata": {},
   "source": [
    "## 2. Comparison Operators"
   ]
  },
  {
   "cell_type": "code",
   "execution_count": 21,
   "metadata": {},
   "outputs": [
    {
     "name": "stdout",
     "output_type": "stream",
     "text": [
      "True\n",
      "False\n",
      "False\n",
      "True\n",
      "True\n",
      "False\n"
     ]
    }
   ],
   "source": [
    "# Comparision Oprators gives the out put in true/false here \n",
    "print(a > b)\n",
    " \n",
    "print(a < b)\n",
    " \n",
    "print(a == b)\n",
    " \n",
    "print(a != b)\n",
    " \n",
    "print(a >= b)\n",
    " \n",
    "print(a <= b)"
   ]
  },
  {
   "cell_type": "markdown",
   "metadata": {},
   "source": [
    "## 3.  Logical Operators"
   ]
  },
  {
   "cell_type": "code",
   "execution_count": 29,
   "metadata": {},
   "outputs": [
    {
     "name": "stdout",
     "output_type": "stream",
     "text": [
      "False True\n",
      "True\n",
      "False\n"
     ]
    }
   ],
   "source": [
    "a = True\n",
    "b = False\n",
    "c = True\n",
    " \n",
    "# and\n",
    "print(a and b , a and c)\n",
    " \n",
    "# or\n",
    "print(a or b)\n",
    "\n",
    "# not\n",
    "print(not a)"
   ]
  },
  {
   "cell_type": "markdown",
   "metadata": {},
   "source": [
    "## 4. Bitwise Operators"
   ]
  },
  {
   "cell_type": "code",
   "execution_count": 23,
   "metadata": {},
   "outputs": [
    {
     "name": "stdout",
     "output_type": "stream",
     "text": [
      "5\n",
      "15\n",
      "-6\n",
      "10\n",
      "7\n",
      "10\n"
     ]
    }
   ],
   "source": [
    "a = 15\n",
    "b = 5\n",
    " \n",
    "# Bitwise AND operation\n",
    "print(a & b)\n",
    " \n",
    "# Bitwise OR operation\n",
    "print(a | b)\n",
    " \n",
    "# Bitwise NOT operation\n",
    "print(~b)\n",
    " \n",
    "# Bitwise XOR operation\n",
    "print(b ^ a)\n",
    " \n",
    "# Bitwise right shift operation\n",
    "print(a >> 1)\n",
    " \n",
    "# Bitwise left shift operation\n",
    "print(b << 1)"
   ]
  },
  {
   "cell_type": "markdown",
   "metadata": {},
   "source": [
    "## 5. Assignment Operators"
   ]
  },
  {
   "cell_type": "code",
   "execution_count": 24,
   "metadata": {},
   "outputs": [
    {
     "name": "stdout",
     "output_type": "stream",
     "text": [
      "15\n",
      "30\n",
      "15\n",
      "225\n",
      "7372800\n"
     ]
    }
   ],
   "source": [
    "a = 15\n",
    "# Assign value\n",
    "b = a\n",
    "print(b)\n",
    " \n",
    "# Add and assign value to left operand\n",
    "b += a\n",
    "print(b)\n",
    " \n",
    "# Subtract and assign value to left operand\n",
    "b -= a\n",
    "print(b)\n",
    " \n",
    "# multiply and assign to left operand\n",
    "b *= a\n",
    "print(b)\n",
    " \n",
    "# bitwise lishift operator ((addition of  b+b) to a times)\n",
    "b <<= a\n",
    "print(b)"
   ]
  },
  {
   "cell_type": "markdown",
   "metadata": {},
   "source": [
    "## 6. Identity Operators"
   ]
  },
  {
   "cell_type": "code",
   "execution_count": 27,
   "metadata": {},
   "outputs": [
    {
     "name": "stdout",
     "output_type": "stream",
     "text": [
      "True\n",
      "False\n"
     ]
    }
   ],
   "source": [
    "a = \"Green\"\n",
    "b = \"Blue\"\n",
    "c = b\n",
    " \n",
    "print(a is not b)\n",
    "print(a is c)"
   ]
  },
  {
   "cell_type": "code",
   "execution_count": null,
   "metadata": {},
   "outputs": [],
   "source": []
  }
 ],
 "metadata": {
  "kernelspec": {
   "display_name": "Python 3",
   "language": "python",
   "name": "python3"
  },
  "language_info": {
   "codemirror_mode": {
    "name": "ipython",
    "version": 3
   },
   "file_extension": ".py",
   "mimetype": "text/x-python",
   "name": "python",
   "nbconvert_exporter": "python",
   "pygments_lexer": "ipython3",
   "version": "3.8.5"
  }
 },
 "nbformat": 4,
 "nbformat_minor": 4
}
