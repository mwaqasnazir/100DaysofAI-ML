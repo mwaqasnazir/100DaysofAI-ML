{
 "cells": [
  {
   "cell_type": "markdown",
   "metadata": {},
   "source": [
    "## Python Data Types"
   ]
  },
  {
   "cell_type": "code",
   "execution_count": 1,
   "metadata": {},
   "outputs": [
    {
     "name": "stdout",
     "output_type": "stream",
     "text": [
      "Hi! It's me Wicky\n"
     ]
    }
   ],
   "source": [
    "# String Data Type \n",
    "# Assigning string to a variable\n",
    "a = \"Hi! It's me Wicky\"\n",
    "print (a)"
   ]
  },
  {
   "cell_type": "code",
   "execution_count": 5,
   "metadata": {},
   "outputs": [
    {
     "name": "stdout",
     "output_type": "stream",
     "text": [
      "[1, 'Mr. ', 'Wicky', 3]\n",
      "[1, 'Mr. ', 'Wicky', 3, 6]\n",
      "[1, 'Mr. ', 'Wicky', 3]\n",
      "Wicky\n"
     ]
    }
   ],
   "source": [
    "# Declaring a list\n",
    "L = [1, \"Mr. \" , \"Wicky\" , 1+2]\n",
    "print (L)\n",
    "L.append(6) # To add new members to list\n",
    "print (L)\n",
    "L.pop()    # To remove members of list\n",
    "print (L)\n",
    "print (L[2])"
   ]
  },
  {
   "cell_type": "code",
   "execution_count": 8,
   "metadata": {},
   "outputs": [
    {
     "name": "stdout",
     "output_type": "stream",
     "text": [
      "(1, 'Mr. ', 'Wicky', 3)\n",
      "Mr. Wicky\n"
     ]
    }
   ],
   "source": [
    "#Declearing a Tuple\n",
    "tup = (1, \"Mr. \" , \"Wicky\" , 1+2)\n",
    "print(tup)\n",
    "print(tup[1] + tup[2])"
   ]
  },
  {
   "cell_type": "code",
   "execution_count": null,
   "metadata": {},
   "outputs": [],
   "source": []
  }
 ],
 "metadata": {
  "kernelspec": {
   "display_name": "Python 3",
   "language": "python",
   "name": "python3"
  },
  "language_info": {
   "codemirror_mode": {
    "name": "ipython",
    "version": 3
   },
   "file_extension": ".py",
   "mimetype": "text/x-python",
   "name": "python",
   "nbconvert_exporter": "python",
   "pygments_lexer": "ipython3",
   "version": "3.8.5"
  }
 },
 "nbformat": 4,
 "nbformat_minor": 4
}
