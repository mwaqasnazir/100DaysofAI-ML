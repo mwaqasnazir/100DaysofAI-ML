{
 "cells": [
  {
   "cell_type": "markdown",
   "metadata": {},
   "source": [
    "## Python Built-in Modules:"
   ]
  },
  {
   "cell_type": "code",
   "execution_count": 3,
   "metadata": {},
   "outputs": [
    {
     "name": "stdout",
     "output_type": "stream",
     "text": [
      "5.0\n",
      "3.141592653589793\n",
      "114.59155902616465\n",
      "1.0471975511965976\n",
      "0.9092974268256817\n",
      "0.8775825618903728\n",
      "0.23414336235146527\n",
      "24\n"
     ]
    }
   ],
   "source": [
    "# importing built-in module math\n",
    "import math\n",
    "\n",
    "# using square root(sqrt) function contained math module\n",
    "print(math.sqrt(25))\n",
    "\n",
    "# using pi function contained in math module\n",
    "print(math.pi)\n",
    "\n",
    "# 2 radians = 114.59 degreees\n",
    "print(math.degrees(2))\n",
    "\n",
    "# 60 degrees = 1.04 radians\n",
    "print(math.radians(60))\n",
    "\n",
    "# Sine of 2 radians\n",
    "print(math.sin(2))\n",
    "\n",
    "# Cosine of 0.5 radians\n",
    "print(math.cos(0.5))\n",
    "\n",
    "# Tangent of 0.23 radians\n",
    "print(math.tan(0.23))\n",
    "\n",
    "# 1 * 2 * 3 * 4 = 24\n",
    "print(math.factorial(4))"
   ]
  },
  {
   "cell_type": "markdown",
   "metadata": {},
   "source": [
    "# Python Built-in Modules: Random"
   ]
  },
  {
   "cell_type": "code",
   "execution_count": 4,
   "metadata": {},
   "outputs": [
    {
     "name": "stdout",
     "output_type": "stream",
     "text": [
      "2\n",
      "0.46071020814167574\n",
      "30.820865376057206\n",
      "27\n"
     ]
    }
   ],
   "source": [
    "# importing built in module random\n",
    "import random\n",
    "\n",
    "# printing random integer between 0 and 5\n",
    "print(random.randint(0, 5))\n",
    "\n",
    "# print random floating point number between 0 and 1\n",
    "print(random.random())\n",
    "\n",
    "# random number between 0 and 100\n",
    "print(random.random() * 100)\n",
    "\n",
    "List = [1, 4, True, 800, \"python\", 27, \"hello\"]\n",
    "\n",
    "# using random module for choosing a random element from a set such as a list\n",
    "print(random.choice(List))"
   ]
  },
  {
   "cell_type": "code",
   "execution_count": null,
   "metadata": {},
   "outputs": [],
   "source": []
  }
 ],
 "metadata": {
  "kernelspec": {
   "display_name": "Python 3",
   "language": "python",
   "name": "python3"
  },
  "language_info": {
   "codemirror_mode": {
    "name": "ipython",
    "version": 3
   },
   "file_extension": ".py",
   "mimetype": "text/x-python",
   "name": "python",
   "nbconvert_exporter": "python",
   "pygments_lexer": "ipython3",
   "version": "3.8.5"
  }
 },
 "nbformat": 4,
 "nbformat_minor": 4
}
