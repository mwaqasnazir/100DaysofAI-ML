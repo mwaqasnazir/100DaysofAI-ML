{
 "cells": [
  {
   "cell_type": "markdown",
   "metadata": {},
   "source": [
    "## Strings in Python"
   ]
  },
  {
   "cell_type": "code",
   "execution_count": 41,
   "metadata": {},
   "outputs": [
    {
     "name": "stdout",
     "output_type": "stream",
     "text": [
      "Initial String with use of Triple Quotes: \n",
      "I'M A \"STUDENT\"\n",
      "\n",
      "Escaping Single Quote: \n",
      "I'm a \"Student\"\n",
      "\n",
      "Escaping Double Quotes: \n",
      "I'm a \"student\"\n",
      "\n",
      "Escaping Backslashes: \n",
      "C:\\Python\\Code\\\n"
     ]
    }
   ],
   "source": [
    "# Initial String\n",
    "String1 = '''I'm a \"Student\"'''\n",
    "print(\"Initial String with use of Triple Quotes: \")\n",
    "print(String1.upper())\n",
    " \n",
    "# Escaping Single Quote\n",
    "String1 = 'I\\'m a \"Student\"'\n",
    "print(\"\\nEscaping Single Quote: \")\n",
    "print(String1)\n",
    " \n",
    "# Escaping Double Quotes\n",
    "String1 = \"I'm a \\\"Student\\\"\"\n",
    "print(\"\\nEscaping Double Quotes: \")\n",
    "print(String1)\n",
    " \n",
    "# Printing Paths with the use of Escape Sequences\n",
    "String1 = \"C:\\\\Python\\\\Code\\\\\"\n",
    "print(\"\\nEscaping Backslashes: \")\n",
    "print(String1)"
   ]
  },
  {
   "cell_type": "markdown",
   "metadata": {},
   "source": [
    "## Strings Using Hex & Raw"
   ]
  },
  {
   "cell_type": "code",
   "execution_count": 4,
   "metadata": {},
   "outputs": [
    {
     "name": "stdout",
     "output_type": "stream",
     "text": [
      "\n",
      "Printing in HEX with the use of Escape Sequences: \n",
      "This is wicky in HEX\n",
      "\n",
      "Printing Raw String in HEX Format: \n",
      "This is \\x47\\x65\\x65\\x6b\\x73 in \\x48\\x45\\x58\n"
     ]
    }
   ],
   "source": [
    "\n",
    "# Printing Geeks in HEX\n",
    "String1 = \"This is \\x77\\x69\\x63\\x6b\\x79 in \\x48\\x45\\x58\"\n",
    "print(\"\\nPrinting in HEX with the use of Escape Sequences: \")\n",
    "print(String1)\n",
    " \n",
    "# Using raw String to\n",
    "# ignore Escape Sequences\n",
    "String1 = r\"This is \\x77\\x69\\x63\\x6b\\x79 in \\x48\\x45\\x58\"\n",
    "print(\"\\nPrinting Raw String in HEX Format: \")\n",
    "print(String1)"
   ]
  },
  {
   "cell_type": "markdown",
   "metadata": {},
   "source": [
    "## String Allignments"
   ]
  },
  {
   "cell_type": "code",
   "execution_count": 18,
   "metadata": {},
   "outputs": [
    {
     "name": "stdout",
     "output_type": "stream",
     "text": [
      "\n",
      "Left, center and right alignment with Formatting: \n",
      "|This      |    is    |     Wicky|\n"
     ]
    }
   ],
   "source": [
    "# String alignment <left, ^Center, >Right\n",
    "String1 = \"|{:<10}|{:^10}|{:>10}|\".format('This','is','Wicky')\n",
    "print(\"\\nLeft, center and right alignment with Formatting: \")\n",
    "print(String1)"
   ]
  },
  {
   "cell_type": "markdown",
   "metadata": {},
   "source": [
    "## Strings Formating"
   ]
  },
  {
   "cell_type": "code",
   "execution_count": 5,
   "metadata": {},
   "outputs": [
    {
     "name": "stdout",
     "output_type": "stream",
     "text": [
      "Print String in default order: \n",
      "This Is Wicky\n",
      "\n",
      "Print String in Positional order: \n",
      "Is This Wicky\n",
      "\n",
      "Print String in order of Keywords: \n",
      "Wicky Is This\n"
     ]
    }
   ],
   "source": [
    "# Python Program for Formatting of Strings\n",
    "# Default order\n",
    "String1 = \"{} {} {}\".format('This', 'Is', 'Wicky')\n",
    "print(\"Print String in default order: \")\n",
    "print(String1)\n",
    " \n",
    "# Positional Formatting\n",
    "String1 = \"{1} {0} {2}\".format('This', 'Is', 'Wicky')\n",
    "print(\"\\nPrint String in Positional order: \")\n",
    "print(String1)\n",
    " \n",
    "# Keyword Formatting\n",
    "String1 = \"{l} {f} {g}\".format(g = 'This', f = 'Is', l = 'Wicky')\n",
    "print(\"\\nPrint String in order of Keywords: \")\n",
    "print(String1)"
   ]
  },
  {
   "cell_type": "markdown",
   "metadata": {},
   "source": [
    "## Strings Using Binary, Floats, Exponent, Round off"
   ]
  },
  {
   "cell_type": "code",
   "execution_count": 42,
   "metadata": {},
   "outputs": [
    {
     "name": "stdout",
     "output_type": "stream",
     "text": [
      "\n",
      "Binary representation of 12 is \n",
      "1100\n",
      "\n",
      "Exponent representation of 185.8509 is \n",
      "1.858509e+02\n",
      "\n",
      "one-fifth is : \n",
      "0.20\n"
     ]
    }
   ],
   "source": [
    "# Formatting of Integers\n",
    "String1 = \"{0:b}\".format(12)\n",
    "print(\"\\nBinary representation of 12 is \")\n",
    "print(String1)\n",
    "\n",
    "# Formatting of Floats\n",
    "String1 = \"{0:e}\".format(185.8509)\n",
    "print(\"\\nExponent representation of 185.8509 is \")\n",
    "print(String1)\n",
    "\n",
    "# Rounding off Integers\n",
    "String1 = \"{0:.2f}\".format(1/5)\n",
    "print(\"\\none-fifth is : \")\n",
    "print(String1)\n"
   ]
  },
  {
   "cell_type": "markdown",
   "metadata": {},
   "source": [
    "## Strings Slicing"
   ]
  },
  {
   "cell_type": "code",
   "execution_count": 44,
   "metadata": {},
   "outputs": [
    {
     "name": "stdout",
     "output_type": "stream",
     "text": [
      "Initial String: \n",
      "This is wicky\n",
      "\n",
      "Slicing characters from 8-14: \n",
      "Wicky\n",
      "\n",
      "Slicingcharacter: \n",
      "this is \n"
     ]
    }
   ],
   "source": [
    "# Python Program to demonstrate String slicing\n",
    "String1 = \"this is Wicky\"\n",
    "print(\"Initial String: \")\n",
    "print(String1.capitalize())\n",
    " \n",
    "# Printing 8th to 14th character\n",
    "print(\"\\nSlicing characters from 8-14: \")\n",
    "print(String1[8:14])\n",
    " \n",
    "# Printing characters \n",
    "print(\"\\nSlicing\" + \"character: \")\n",
    "print(String1[0:-5])"
   ]
  },
  {
   "cell_type": "code",
   "execution_count": null,
   "metadata": {},
   "outputs": [],
   "source": []
  }
 ],
 "metadata": {
  "kernelspec": {
   "display_name": "Python 3",
   "language": "python",
   "name": "python3"
  },
  "language_info": {
   "codemirror_mode": {
    "name": "ipython",
    "version": 3
   },
   "file_extension": ".py",
   "mimetype": "text/x-python",
   "name": "python",
   "nbconvert_exporter": "python",
   "pygments_lexer": "ipython3",
   "version": "3.8.5"
  }
 },
 "nbformat": 4,
 "nbformat_minor": 4
}
