{
 "cells": [
  {
   "cell_type": "markdown",
   "metadata": {},
   "source": [
    "## Errors and Exceptions in Python"
   ]
  },
  {
   "cell_type": "code",
   "execution_count": 26,
   "metadata": {},
   "outputs": [
    {
     "name": "stdout",
     "output_type": "stream",
     "text": [
      "\n",
      "Sorry ! You are dividing by zero \n",
      "\n",
      "Yeah ! Your answer is : 10\n",
      "\n",
      "Sorry ! You are dividing by zero \n",
      "This is always executed\n"
     ]
    }
   ],
   "source": [
    "# Python code to illustrate working of try()\n",
    "def divide(x, y):\n",
    "    try:\n",
    "        # Floor Division : Gives only Fractional Part as Answer\n",
    "        result = x // y\n",
    "        print(\"\\nYeah ! Your answer is :\", result)\n",
    "    except ZeroDivisionError:\n",
    "        print(\"\\nSorry ! You are dividing by zero \")\n",
    "        \n",
    "divide(3, 0)\n",
    "\n",
    "def multiply(x, y):\n",
    "    try:\n",
    "        result = x * y\n",
    "        print(\"\\nYeah ! Your answer is :\", result)\n",
    "    except ZeroDivisionError:\n",
    "        print(\"\\nSorry ! You are multiplying by zero \")\n",
    "\n",
    "multiply(5, 2)\n",
    "\n",
    "def normal_division(x, y):\n",
    "    try:\n",
    "        result = x / y\n",
    "        print(\"\\nYeah ! Your answer is :\", result)\n",
    "    except ZeroDivisionError:\n",
    "        print(\"\\nSorry ! You are dividing by zero \")\n",
    "    finally:\n",
    "    # this block is always executed regardless of exception generation.\n",
    "        print('This is always executed')\n",
    "\n",
    "normal_division(5, 0)\n"
   ]
  },
  {
   "cell_type": "code",
   "execution_count": null,
   "metadata": {},
   "outputs": [],
   "source": []
  }
 ],
 "metadata": {
  "kernelspec": {
   "display_name": "Python 3",
   "language": "python",
   "name": "python3"
  },
  "language_info": {
   "codemirror_mode": {
    "name": "ipython",
    "version": 3
   },
   "file_extension": ".py",
   "mimetype": "text/x-python",
   "name": "python",
   "nbconvert_exporter": "python",
   "pygments_lexer": "ipython3",
   "version": "3.8.5"
  }
 },
 "nbformat": 4,
 "nbformat_minor": 4
}
