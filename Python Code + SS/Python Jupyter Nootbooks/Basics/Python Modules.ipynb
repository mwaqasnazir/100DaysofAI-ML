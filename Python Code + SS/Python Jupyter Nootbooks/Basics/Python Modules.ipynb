{
 "cells": [
  {
   "cell_type": "markdown",
   "metadata": {},
   "source": [
    "## Python Modules"
   ]
  },
  {
   "cell_type": "code",
   "execution_count": 1,
   "metadata": {},
   "outputs": [
    {
     "name": "stdout",
     "output_type": "stream",
     "text": [
      "10\n",
      "6\n",
      "16\n",
      "4.0\n"
     ]
    }
   ],
   "source": [
    "import Module\n",
    "\n",
    "Module.add(8,2) \n",
    "Module.subtract(8,2)\n",
    "Module.multiply(8,2)\n",
    "Module.divide(8,2)\n"
   ]
  },
  {
   "cell_type": "code",
   "execution_count": 5,
   "metadata": {},
   "outputs": [
    {
     "name": "stdout",
     "output_type": "stream",
     "text": [
      "10\n"
     ]
    }
   ],
   "source": [
    "from Module import multiply\n",
    "\n",
    "multiply(2,5)"
   ]
  },
  {
   "cell_type": "code",
   "execution_count": 7,
   "metadata": {},
   "outputs": [
    {
     "name": "stdout",
     "output_type": "stream",
     "text": [
      "10\n",
      "6\n",
      "16\n",
      "4.0\n"
     ]
    }
   ],
   "source": [
    "from Module import*\n",
    "\n",
    "multiply(2,5)\n",
    "subtract(8,2)\n",
    "multiply(8,2)\n",
    "divide(8,2)"
   ]
  }
 ],
 "metadata": {
  "kernelspec": {
   "display_name": "Python 3",
   "language": "python",
   "name": "python3"
  },
  "language_info": {
   "codemirror_mode": {
    "name": "ipython",
    "version": 3
   },
   "file_extension": ".py",
   "mimetype": "text/x-python",
   "name": "python",
   "nbconvert_exporter": "python",
   "pygments_lexer": "ipython3",
   "version": "3.8.5"
  }
 },
 "nbformat": 4,
 "nbformat_minor": 4
}
