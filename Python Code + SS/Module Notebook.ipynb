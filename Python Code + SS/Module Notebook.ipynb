{
 "cells": [
  {
   "cell_type": "code",
   "execution_count": null,
   "metadata": {},
   "outputs": [],
   "source": [
    "# Simple Modules \n",
    "\n",
    "def add(x, y):\n",
    "    print (x+y)\n",
    "    \n",
    "def subtract(x, y):\n",
    "    print (x-y)\n",
    "\n",
    "def divide(x, y):\n",
    "    print (x/y)\n",
    "\n",
    "def multiply(x, y):\n",
    "    print (x*y)\n",
    "    \n",
    "    add(5,6)\n",
    "    subtract(6,3)\n",
    "    divide(8,2)\n",
    "    multiply(2,2)"
   ]
  }
 ],
 "metadata": {
  "kernelspec": {
   "display_name": "Python 3",
   "language": "python",
   "name": "python3"
  },
  "language_info": {
   "codemirror_mode": {
    "name": "ipython",
    "version": 3
   },
   "file_extension": ".py",
   "mimetype": "text/x-python",
   "name": "python",
   "nbconvert_exporter": "python",
   "pygments_lexer": "ipython3",
   "version": "3.8.5"
  }
 },
 "nbformat": 4,
 "nbformat_minor": 4
}
