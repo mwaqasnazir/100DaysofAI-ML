{
 "cells": [
  {
   "cell_type": "markdown",
   "metadata": {},
   "source": [
    "## Python Lambda Function"
   ]
  },
  {
   "cell_type": "code",
   "execution_count": 22,
   "metadata": {},
   "outputs": [],
   "source": [
    "# As we already know that def keyword is used to define the normal functions and the lambda keyword\n",
    "# is used to create anonymous functions. It has the following syntax:\n",
    "\n",
    "# Syntax:\n",
    "#  lambda arguments : expression"
   ]
  },
  {
   "cell_type": "code",
   "execution_count": 23,
   "metadata": {},
   "outputs": [
    {
     "name": "stdout",
     "output_type": "stream",
     "text": [
      "125\n"
     ]
    }
   ],
   "source": [
    "#Use of Lembda function    \n",
    "g = lambda x: x*x*x \n",
    "print(g(5)) \n"
   ]
  },
  {
   "cell_type": "markdown",
   "metadata": {},
   "source": [
    "## Use of Filter & Map Function "
   ]
  },
  {
   "cell_type": "code",
   "execution_count": 24,
   "metadata": {},
   "outputs": [
    {
     "name": "stdout",
     "output_type": "stream",
     "text": [
      "[10, 2, 8, 60, 4, 30, 10]\n",
      "[True, True, True, True, False, True, True, False, True, False]\n"
     ]
    }
   ],
   "source": [
    "a = [10, 2, 8, 60, 5, 4, 30, 31, 10, 11]\n",
    "  \n",
    "# in filter either we use assignment or conditional operator, the pass actual \n",
    "# parameter will get return\n",
    "filtered = filter (lambda x: x % 2 == 0, a) \n",
    "print(list(filtered))\n",
    "  \n",
    "# in map either we use assignment or conditional operator, the result of \n",
    "# the value will get returned\n",
    "maped = map (lambda x: x % 2 == 0, a) \n",
    "print(list(maped))"
   ]
  },
  {
   "cell_type": "code",
   "execution_count": null,
   "metadata": {},
   "outputs": [],
   "source": []
  }
 ],
 "metadata": {
  "kernelspec": {
   "display_name": "Python 3",
   "language": "python",
   "name": "python3"
  },
  "language_info": {
   "codemirror_mode": {
    "name": "ipython",
    "version": 3
   },
   "file_extension": ".py",
   "mimetype": "text/x-python",
   "name": "python",
   "nbconvert_exporter": "python",
   "pygments_lexer": "ipython3",
   "version": "3.8.5"
  }
 },
 "nbformat": 4,
 "nbformat_minor": 4
}
