{
 "cells": [
  {
   "cell_type": "markdown",
   "metadata": {},
   "source": [
    "## First Class Functions in Python"
   ]
  },
  {
   "cell_type": "code",
   "execution_count": 19,
   "metadata": {},
   "outputs": [
    {
     "name": "stdout",
     "output_type": "stream",
     "text": [
      "MUHAMMAD WAQAS NAZIR\n",
      "HY, IT'S ME WICKY\n"
     ]
    }
   ],
   "source": [
    "# Python program to illustrate functions can be treated as objects\n",
    "def fun1(text):\n",
    "    return text.upper()\n",
    "\n",
    "print (fun1('Muhammad Waqas Nazir'))\n",
    "\n",
    "output = fun1\n",
    "\n",
    "print (output(\"Hy, It's me Wicky\"))\n"
   ]
  },
  {
   "cell_type": "code",
   "execution_count": 18,
   "metadata": {},
   "outputs": [
    {
     "name": "stdout",
     "output_type": "stream",
     "text": [
      "HI, I AM CREATED BY A FUNCTION\n",
      "                                PASSED AS AN ARGUMENT.\n",
      "hi, i am created by a function\n",
      "                                passed as an argument.\n"
     ]
    }
   ],
   "source": [
    "# Python program to illustrate functions can be passed as arguments to other functions\n",
    "def fun1(text):\n",
    "    return text.upper()\n",
    "\n",
    "def fun2(text):\n",
    "    return text.lower()\n",
    "\n",
    "def result(func):\n",
    "    # storing the function in a variable\n",
    "    output = func(\"\"\"Hi, I am created by a function\n",
    "                                passed as an argument.\"\"\")\n",
    "    print (output)\n",
    "\n",
    "result(fun1)\n",
    "result(fun2)\n"
   ]
  },
  {
   "cell_type": "code",
   "execution_count": null,
   "metadata": {},
   "outputs": [],
   "source": []
  },
  {
   "cell_type": "code",
   "execution_count": null,
   "metadata": {},
   "outputs": [],
   "source": []
  }
 ],
 "metadata": {
  "kernelspec": {
   "display_name": "Python 3",
   "language": "python",
   "name": "python3"
  },
  "language_info": {
   "codemirror_mode": {
    "name": "ipython",
    "version": 3
   },
   "file_extension": ".py",
   "mimetype": "text/x-python",
   "name": "python",
   "nbconvert_exporter": "python",
   "pygments_lexer": "ipython3",
   "version": "3.8.5"
  }
 },
 "nbformat": 4,
 "nbformat_minor": 4
}
