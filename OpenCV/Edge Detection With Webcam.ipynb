{
 "cells": [
  {
   "cell_type": "markdown",
   "metadata": {},
   "source": [
    "## Edge Detection With Webcam"
   ]
  },
  {
   "cell_type": "code",
   "execution_count": 1,
   "metadata": {},
   "outputs": [],
   "source": [
    "import numpy as np\n",
    "import cv2 as cv\n",
    "\n",
    "# Edge Detection Function\n",
    "def Edge_Detection(image):\n",
    "    blur_img = cv.GaussianBlur(gray,(5,5),0)\n",
    "    canny_edge = cv.Canny(blur_img, 10,70)\n",
    "    ret, mask = cv.threshold(canny_edge,70,255,cv.THRESH_BINARY)\n",
    "    return mask\n",
    "\n",
    "# Changing Video Size\n",
    "def Make_1600K():\n",
    "    cap.set(3,1900)\n",
    "    cap.set(4,1000)\n",
    "\n",
    "# Enabling Camera \n",
    "cap = cv.VideoCapture(0)\n",
    "Make_1600K()\n",
    "\n",
    "if not cap.isOpened():\n",
    "    print(\"Cannot open camera\")\n",
    "    exit()\n",
    "while True:\n",
    "    # Capture frame-by-frame\n",
    "    ret, frame = cap.read()\n",
    "    # if frame is read correctly ret is True\n",
    "    if not ret:\n",
    "        print(\"Can't receive frame (stream end?). Exiting ...\")\n",
    "        break\n",
    "    # Our operations on the frame come here\n",
    "    gray = cv.cvtColor(frame, cv.COLOR_BGR2GRAY)\n",
    "    # Display the resulting frame\n",
    "    cv.imshow('My Video', Edge_Detection(gray))\n",
    "    if cv.waitKey(1) == 13:\n",
    "        break\n",
    "# When everything done, release the capture\n",
    "cap.release()\n",
    "cv.destroyAllWindows()"
   ]
  },
  {
   "cell_type": "code",
   "execution_count": null,
   "metadata": {},
   "outputs": [],
   "source": []
  }
 ],
 "metadata": {
  "kernelspec": {
   "display_name": "Python 3",
   "language": "python",
   "name": "python3"
  },
  "language_info": {
   "codemirror_mode": {
    "name": "ipython",
    "version": 3
   },
   "file_extension": ".py",
   "mimetype": "text/x-python",
   "name": "python",
   "nbconvert_exporter": "python",
   "pygments_lexer": "ipython3",
   "version": "3.8.5"
  }
 },
 "nbformat": 4,
 "nbformat_minor": 4
}
