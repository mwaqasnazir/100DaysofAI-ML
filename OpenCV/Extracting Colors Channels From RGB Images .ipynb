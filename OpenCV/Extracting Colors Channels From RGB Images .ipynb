{
 "cells": [
  {
   "cell_type": "code",
   "execution_count": null,
   "metadata": {},
   "outputs": [],
   "source": [
    "import cv2\n",
    "import numpy as pd\n",
    "\n",
    "veg_img = cv2.imread('veg_img.jpg')\n",
    "img = cv2.resize(veg_img, None, fx=.5, fy=.5, interpolation=cv2.INTER_CUBIC)\n",
    "cv2.imshow('Orignal Image', img)\n",
    "cv2.waitKey(0)\n",
    "\n",
    "Blue_img = img[:,:,0]\n",
    "Green_img = img[:,:,1]\n",
    "Red_img = img[:,:,2]\n",
    "\n",
    "cv2.imshow('Blue Image', Blue_img)\n",
    "cv2.waitKey()\n",
    "      \n",
    "cv2.imshow('Green Image', Green_img)\n",
    "cv2.waitKey()\n",
    "           \n",
    "cv2.imshow('Red Image', Red_img)\n",
    "cv2.waitKey()\n",
    "\n",
    "cv2.destroyAllWindows()"
   ]
  },
  {
   "cell_type": "code",
   "execution_count": null,
   "metadata": {},
   "outputs": [],
   "source": []
  }
 ],
 "metadata": {
  "kernelspec": {
   "display_name": "Python 3",
   "language": "python",
   "name": "python3"
  },
  "language_info": {
   "codemirror_mode": {
    "name": "ipython",
    "version": 3
   },
   "file_extension": ".py",
   "mimetype": "text/x-python",
   "name": "python",
   "nbconvert_exporter": "python",
   "pygments_lexer": "ipython3",
   "version": "3.8.5"
  }
 },
 "nbformat": 4,
 "nbformat_minor": 4
}
