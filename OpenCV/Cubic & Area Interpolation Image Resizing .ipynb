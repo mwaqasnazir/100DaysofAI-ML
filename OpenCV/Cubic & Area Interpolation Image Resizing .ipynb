{
 "cells": [
  {
   "cell_type": "code",
   "execution_count": null,
   "metadata": {},
   "outputs": [],
   "source": [
    "import cv2\n",
    "import numpy as pd\n",
    "\n",
    "img = cv2.imread('img.png')\n",
    "\n",
    "cv2.imshow('Orignal Image', img)\n",
    "cv2.waitKey(0)\n",
    "\n",
    "# Let's Resize the images\n",
    "# Here i am using Cubic Interplotation\n",
    "img_resized = cv2.resize(img, None, fx=.25, fy=.25, interpolation=cv2.INTER_CUBIC)\n",
    "cv2.imshow('Cubic Interpolation', img_resized)\n",
    "cv2.waitKey()\n",
    "\n",
    "# Let's Resize the images\n",
    "# Here i am using Area Interplotation\n",
    "img_resized2 = cv2.resize(img,(300,200), interpolation=cv2.INTER_AREA)\n",
    "cv2.imshow('Area Interpolation', img_resized2)\n",
    "cv2.waitKey()"
   ]
  },
  {
   "cell_type": "code",
   "execution_count": null,
   "metadata": {},
   "outputs": [],
   "source": []
  }
 ],
 "metadata": {
  "kernelspec": {
   "display_name": "Python 3",
   "language": "python",
   "name": "python3"
  },
  "language_info": {
   "codemirror_mode": {
    "name": "ipython",
    "version": 3
   },
   "file_extension": ".py",
   "mimetype": "text/x-python",
   "name": "python",
   "nbconvert_exporter": "python",
   "pygments_lexer": "ipython3",
   "version": "3.8.5"
  }
 },
 "nbformat": 4,
 "nbformat_minor": 4
}
