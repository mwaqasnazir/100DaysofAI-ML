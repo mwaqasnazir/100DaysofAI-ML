{
 "cells": [
  {
   "cell_type": "markdown",
   "id": "0581c516",
   "metadata": {},
   "source": [
    "## KMeans Implementation on Mango's Data Set"
   ]
  },
  {
   "cell_type": "code",
   "execution_count": 1,
   "id": "7eb6a598",
   "metadata": {},
   "outputs": [],
   "source": [
    "# Importing Required Libraries\n",
    "import numpy as np\n",
    "import pandas as pd\n",
    "import matplotlib.pyplot as plt\n",
    "from sklearn.cluster import KMeans"
   ]
  },
  {
   "cell_type": "code",
   "execution_count": 2,
   "id": "e6476ac5",
   "metadata": {},
   "outputs": [
    {
     "name": "stdout",
     "output_type": "stream",
     "text": [
      "   GreenMango Length  GreenMangowidth  YelloMangoLength  YelloMangoWidth\n",
      "0               10.2             10.5               5.6              0.6\n",
      "1                9.8              9.0               5.6              0.6\n",
      "2                9.4              9.6               5.2              0.6\n",
      "3                9.2              9.3               6.0              0.6\n",
      "4               10.0             10.8               5.6              0.6\n"
     ]
    }
   ],
   "source": [
    "# Reading Data from file\n",
    "df = pd.read_csv('Data/mango2.csv')\n",
    "print(df.head())"
   ]
  },
  {
   "cell_type": "code",
   "execution_count": 3,
   "id": "d763fc54",
   "metadata": {},
   "outputs": [
    {
     "name": "stderr",
     "output_type": "stream",
     "text": [
      "C:\\Users\\wbutt\\anaconda3\\lib\\site-packages\\sklearn\\cluster\\_kmeans.py:881: UserWarning: KMeans is known to have a memory leak on Windows with MKL, when there are less chunks than available threads. You can avoid it by setting the environment variable OMP_NUM_THREADS=1.\n",
      "  warnings.warn(\n"
     ]
    },
    {
     "data": {
      "image/png": "[encoded data removed]",
      "text/plain": [
       "<Figure size 432x288 with 1 Axes>"
      ]
     },
     "metadata": {
      "needs_background": "light"
     },
     "output_type": "display_data"
    }
   ],
   "source": [
    "X = df.iloc[:,[0,1,2,3]].values\n",
    "\n",
    "# Applying Elbow Method to find number of cluster\n",
    "sq = []\n",
    "for i in range(1,11):\n",
    "    kmeans = KMeans(n_clusters = i, init = 'k-means++', max_iter =300,\n",
    "                   n_init =10, random_state =0)\n",
    "    kmeans.fit(X)\n",
    "    sq.append(kmeans.inertia_)\n",
    "plt.plot(range(1,11),sq)\n",
    "plt.show()"
   ]
  },
  {
   "cell_type": "code",
   "execution_count": 4,
   "id": "e08bd4e8",
   "metadata": {},
   "outputs": [
    {
     "data": {
      "image/png": "[encoded data removed]",
      "text/plain": [
       "<Figure size 432x288 with 1 Axes>"
      ]
     },
     "metadata": {
      "needs_background": "light"
     },
     "output_type": "display_data"
    }
   ],
   "source": [
    "# Here i am applying KMeans Algorithm of 3 Clusters\n",
    "kmeans = KMeans(n_clusters = 3, init = 'k-means++', max_iter =300,\n",
    "                   n_init =10, random_state =0)\n",
    "y_kmeans = kmeans.fit_predict(X)\n",
    "\n",
    "# Here i am ploting Clusters in three different Colors\n",
    "plt.scatter(X[y_kmeans==0,0], X[y_kmeans==0,1], s=20, c='yellow',label='Cluster 0')\n",
    "plt.scatter(X[y_kmeans==1,0], X[y_kmeans==1,1], s=20, c='blue',label='Cluster 1')\n",
    "plt.scatter(X[y_kmeans==2,0], X[y_kmeans==2,1], s=20, c='green',label='Cluster 2')\n",
    "\n",
    "# Here i am ploting Centeriods of clusters in red colors\n",
    "plt.scatter(kmeans.cluster_centers_[:,0],\n",
    "            kmeans.cluster_centers_[:,1], s=100, c='red', label ='Centroids')\n",
    "\n",
    "# Here I am Ploting the Clusters in scatter form\n",
    "plt.title('Cluster of Mangos')\n",
    "plt.xlabel('Clusters')\n",
    "plt.ylabel('Cluster center')\n",
    "plt.show()\n"
   ]
  },
  {
   "cell_type": "code",
   "execution_count": null,
   "id": "27d53f76",
   "metadata": {},
   "outputs": [],
   "source": []
  }
 ],
 "metadata": {
  "kernelspec": {
   "display_name": "Python 3",
   "language": "python",
   "name": "python3"
  },
  "language_info": {
   "codemirror_mode": {
    "name": "ipython",
    "version": 3
   },
   "file_extension": ".py",
   "mimetype": "text/x-python",
   "name": "python",
   "nbconvert_exporter": "python",
   "pygments_lexer": "ipython3",
   "version": "3.8.8"
  }
 },
 "nbformat": 4,
 "nbformat_minor": 5
}
