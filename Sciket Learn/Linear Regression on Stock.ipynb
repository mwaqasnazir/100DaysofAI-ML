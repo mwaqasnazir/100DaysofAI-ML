{
 "cells": [
  {
   "cell_type": "markdown",
   "id": "47723ffd",
   "metadata": {},
   "source": [
    "## Linear Regression on Stock Values"
   ]
  },
  {
   "cell_type": "code",
   "execution_count": 1,
   "id": "58a83f7e",
   "metadata": {},
   "outputs": [
    {
     "name": "stdout",
     "output_type": "stream",
     "text": [
      "              Open    High     Low    Close      Volume  Ex-Dividend  \\\n",
      "Date                                                                   \n",
      "2004-08-19  100.01  104.06   95.96  100.335  44659000.0          0.0   \n",
      "2004-08-20  101.01  109.08  100.50  108.310  22834300.0          0.0   \n",
      "2004-08-23  110.76  113.48  109.05  109.400  18256100.0          0.0   \n",
      "2004-08-24  111.24  111.60  103.57  104.870  15247300.0          0.0   \n",
      "2004-08-25  104.76  108.00  103.88  106.000   9188600.0          0.0   \n",
      "\n",
      "            Split Ratio  Adj. Open  Adj. High   Adj. Low  Adj. Close  \\\n",
      "Date                                                                   \n",
      "2004-08-19          1.0  50.159839  52.191109  48.128568   50.322842   \n",
      "2004-08-20          1.0  50.661387  54.708881  50.405597   54.322689   \n",
      "2004-08-23          1.0  55.551482  56.915693  54.693835   54.869377   \n",
      "2004-08-24          1.0  55.792225  55.972783  51.945350   52.597363   \n",
      "2004-08-25          1.0  52.542193  54.167209  52.100830   53.164113   \n",
      "\n",
      "            Adj. Volume  \n",
      "Date                     \n",
      "2004-08-19   44659000.0  \n",
      "2004-08-20   22834300.0  \n",
      "2004-08-23   18256100.0  \n",
      "2004-08-24   15247300.0  \n",
      "2004-08-25    9188600.0  \n"
     ]
    }
   ],
   "source": [
    "import pandas as pd\n",
    "import quandl\n",
    "\n",
    "df = quandl.get(\"WIKI/GOOGL\")\n",
    "print(df.head())"
   ]
  },
  {
   "cell_type": "code",
   "execution_count": 2,
   "id": "dc997c17",
   "metadata": {},
   "outputs": [
    {
     "name": "stdout",
     "output_type": "stream",
     "text": [
      "            Adj. Close    HL_PCT  PCT_change  Adj. Volume\n",
      "Date                                                     \n",
      "2004-08-19   50.322842  8.072956    0.324968   44659000.0\n",
      "2004-08-20   54.322689  7.921706    7.227007   22834300.0\n",
      "2004-08-23   54.869377  4.049360   -1.227880   18256100.0\n",
      "2004-08-24   52.597363  7.657099   -5.726357   15247300.0\n",
      "2004-08-25   53.164113  3.886792    1.183658    9188600.0\n"
     ]
    }
   ],
   "source": [
    "#Thus, let's go ahead and pair down our original dataframe a bit:\n",
    "df = df[['Adj. Open',  'Adj. High',  'Adj. Low',  'Adj. Close', 'Adj. Volume']]\n",
    "\n",
    "# Let's go ahead and transform our data next:\n",
    "df['HL_PCT'] = (df['Adj. High'] - df['Adj. Low']) / df['Adj. Close'] * 100.0\n",
    "\n",
    "#Next, we'll do daily percent change:\n",
    "df['PCT_change'] = (df['Adj. Close'] - df['Adj. Open']) / df['Adj. Open'] * 100.\n",
    "\n",
    "#Now we will define a new dataframe as:\n",
    "df = df[['Adj. Close', 'HL_PCT', 'PCT_change', 'Adj. Volume']]\n",
    "print(df.head())"
   ]
  },
  {
   "cell_type": "code",
   "execution_count": 3,
   "id": "7232600c",
   "metadata": {},
   "outputs": [],
   "source": [
    "#Regression - Features and Labels\n",
    "import quandl, math\n",
    "import numpy as np\n",
    "import pandas as pd\n",
    "from sklearn import preprocessing, svm\n",
    "from sklearn.linear_model import LinearRegression"
   ]
  },
  {
   "cell_type": "code",
   "execution_count": 4,
   "id": "b909e8dc",
   "metadata": {},
   "outputs": [
    {
     "name": "stdout",
     "output_type": "stream",
     "text": [
      "0.9765882232372238\n",
      "[1101.23537283 1073.27529277 1020.28451967 1059.25213122 1073.5238798\n",
      " 1074.07251019 1091.96554141 1110.69562034 1115.48473166 1123.19004896\n",
      " 1133.07185037 1129.86966829 1148.48982968 1164.58251445 1136.59894507\n",
      " 1123.02330276 1088.38456476 1102.6201668  1114.22548915 1121.61245756\n",
      " 1134.93053845 1150.16380096 1180.9588332  1186.38660204 1158.05444602\n",
      " 1169.34425705 1170.56275415 1153.6751563  1118.47242403 1114.99254694\n",
      " 1113.611082   1070.50907919 1043.41226174 1070.77509108 1021.02103386] 0.9765882232372238 35\n"
     ]
    }
   ],
   "source": [
    "#math.ceil(x)\n",
    "#Return the ceiling of x as a float,\n",
    "#the smallest integer value greater than or equal to x.\n",
    "\n",
    "#Forcost, fill missing data and return ceiling as float, smallest integer values\n",
    "#greater than or equal to x\n",
    "#In our case, we've decided the features are a bunch of the current values, and the label shall be the price, in the future, where the future is 1% of the entire length of the dataset out. We'll assume all current columns are our features,\n",
    "#so we'll add a new column with a simple pandas operation:\n",
    "#We're saying we want to forecast out 1% of the entire length of the dataset\n",
    "forecast_col = 'Adj. Close'\n",
    "df.fillna(value=-99999, inplace=True)\n",
    "forecast_out = int(math.ceil(0.01 * len(df)))\n",
    "\n",
    "\n",
    "#In our case, we've decided the features are a bunch of the current values,\n",
    "#and the label shall be the price, in the future, where the future is 1% of the entire length of the dataset out.\n",
    "#We'll assume all current columns are our features, so we'll add a new column with a simple pandas operation:\n",
    "\n",
    "df['label'] = df[forecast_col].shift(-forecast_out)\n",
    "\n",
    "\n",
    "#Regression - Training and Testing\n",
    "#We'll then drop any still NaN information from the dataframe:\n",
    "\n",
    "\n",
    "\n",
    "\n",
    "\n",
    "\n",
    "\n",
    "#df.dropna(inplace=True)       \n",
    "#X = np.array(df.drop(['label'], 1))\n",
    "#y = np.array(df['label'])\n",
    "#X = preprocessing.scale(X)\n",
    "#y = np.array(df['label'])\n",
    "from sklearn.model_selection import train_test_split\n",
    "#X_train, X_test, y_train, y_test = train_test_split(X, y, test_size=0.2)\n",
    "\n",
    "#clf = svm.SVR()\n",
    "#clf = LinearRegression()\n",
    "#clf.fit(X_train, y_train)\n",
    "#confidence = clf.score(X_test, y_test)\n",
    "#print(confidence)\n",
    "#clf = LinearRegression()\n",
    "#clf = LinearRegression(n_jobs=-1)\n",
    "#for k in ['linear','poly','rbf','sigmoid']:\n",
    "#    clf = svm.SVR(kernel=k)\n",
    "#    clf.fit(X_train, y_train)\n",
    "#   confidence = clf.score(X_test, y_test)\n",
    "#    print(k,confidence)\n",
    "#Predict\n",
    "X = np.array(df.drop(['label'], 1))\n",
    "X = preprocessing.scale(X)\n",
    "X_lately = X[-forecast_out:]\n",
    "X = X[:-forecast_out]\n",
    "df.dropna(inplace=True)\n",
    "y = np.array(df['label'])\n",
    "X_train, X_test, y_train, y_test = train_test_split(X, y, test_size=0.2)\n",
    "clf = LinearRegression(n_jobs=-1)\n",
    "clf.fit(X_train, y_train)\n",
    "confidence = clf.score(X_test, y_test)\n",
    "print(confidence)\n",
    "\n",
    "forecast_set = clf.predict(X_lately)\n",
    "print(forecast_set, confidence, forecast_out)"
   ]
  },
  {
   "cell_type": "markdown",
   "id": "a05871b3",
   "metadata": {},
   "source": [
    "## Visualizing Above Information"
   ]
  },
  {
   "cell_type": "code",
   "execution_count": 5,
   "id": "e24efaa5",
   "metadata": {},
   "outputs": [
    {
     "data": {
      "image/png": "[encoded data removed]",
      "text/plain": [
       "<Figure size 432x288 with 1 Axes>"
      ]
     },
     "metadata": {},
     "output_type": "display_data"
    }
   ],
   "source": [
    "#visualizing this information\n",
    "import datetime\n",
    "import matplotlib.pyplot as plt\n",
    "from matplotlib import style\n",
    "style.use('ggplot')\n",
    "df['Forecast'] = np.nan\n",
    "\n",
    "\n",
    "last_date = df.iloc[-1].name\n",
    "last_unix = last_date.timestamp()\n",
    "one_day = 86400\n",
    "next_unix = last_unix + one_day\n",
    "for i in forecast_set:\n",
    "    next_date = datetime.datetime.fromtimestamp(next_unix)\n",
    "    next_unix += 86400\n",
    "    df.loc[next_date] = [np.nan for _ in range(len(df.columns)-1)]+[i]\n",
    "\n",
    "df['Adj. Close'].plot()\n",
    "df['Forecast'].plot()\n",
    "plt.legend(loc=4)\n",
    "plt.xlabel('Date')\n",
    "plt.ylabel('Price')\n",
    "plt.show()"
   ]
  },
  {
   "cell_type": "code",
   "execution_count": null,
   "id": "32ccb315",
   "metadata": {},
   "outputs": [],
   "source": []
  }
 ],
 "metadata": {
  "kernelspec": {
   "display_name": "Python 3",
   "language": "python",
   "name": "python3"
  },
  "language_info": {
   "codemirror_mode": {
    "name": "ipython",
    "version": 3
   },
   "file_extension": ".py",
   "mimetype": "text/x-python",
   "name": "python",
   "nbconvert_exporter": "python",
   "pygments_lexer": "ipython3",
   "version": "3.8.8"
  }
 },
 "nbformat": 4,
 "nbformat_minor": 5
}
