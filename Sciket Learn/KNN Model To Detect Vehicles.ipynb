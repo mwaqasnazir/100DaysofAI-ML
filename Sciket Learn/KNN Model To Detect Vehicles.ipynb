{
 "cells": [
  {
   "cell_type": "markdown",
   "id": "a7ebfd0f",
   "metadata": {},
   "source": [
    "## KNN Model To Detect Vehicles"
   ]
  },
  {
   "cell_type": "code",
   "execution_count": 1,
   "id": "b99c213d",
   "metadata": {},
   "outputs": [
    {
     "name": "stdout",
     "output_type": "stream",
     "text": [
      "        id  heigt  wt  lenght  passenger  color tire  fule  year  made  class\n",
      "0  1000025      5   1       1          1      2    1     3     1     1      2\n",
      "1  1002945      5   4       4          5      7   10     3     2     1      2\n",
      "2  1015425      3   1       1          1      2    2     3     1     1      2\n",
      "3  1016277      6   8       8          1      3    4     3     7     1      2\n",
      "4  1017023      4   1       1          3      2    1     3     1     1      2\n"
     ]
    }
   ],
   "source": [
    "import numpy as np\n",
    "import pandas as pd\n",
    "from sklearn import preprocessing,neighbors\n",
    "from sklearn.model_selection import train_test_split\n",
    "\n",
    "df = pd.read_csv('Data/vehicle_dataset_KNN.txt')\n",
    "\n",
    "print (df.head())"
   ]
  },
  {
   "cell_type": "code",
   "execution_count": 2,
   "id": "3a421fb8",
   "metadata": {},
   "outputs": [
    {
     "name": "stdout",
     "output_type": "stream",
     "text": [
      "   heigt  wt  lenght  passenger  color tire  fule  year  made  class\n",
      "0      5   1       1          1      2    1     3     1     1      2\n",
      "1      5   4       4          5      7   10     3     2     1      2\n",
      "2      3   1       1          1      2    2     3     1     1      2\n",
      "3      6   8       8          1      3    4     3     7     1      2\n",
      "4      4   1       1          3      2    1     3     1     1      2\n"
     ]
    }
   ],
   "source": [
    "df.replace('?',-99999, inplace=True)\n",
    "df.drop(['id'], 1, inplace=True)\n",
    "\n",
    "print (df.head())"
   ]
  },
  {
   "cell_type": "code",
   "execution_count": 3,
   "id": "04c9c8c3",
   "metadata": {},
   "outputs": [],
   "source": [
    "x = np.array(df.drop(['class'], 1))\n",
    "y = np.array(df['class'])"
   ]
  },
  {
   "cell_type": "code",
   "execution_count": 4,
   "id": "df9a823e",
   "metadata": {},
   "outputs": [
    {
     "data": {
      "text/plain": [
       "KNeighborsClassifier()"
      ]
     },
     "execution_count": 4,
     "metadata": {},
     "output_type": "execute_result"
    }
   ],
   "source": [
    "# Spliting Data into Train & Test\n",
    "x_train,x_test,y_train,y_test = train_test_split(x, y, test_size=0.2)\n",
    "\n",
    "#Defining Classifier of KNeighbors\n",
    "classifier = neighbors.KNeighborsClassifier()\n",
    "\n",
    "# Now i am Fitting the data\n",
    "classifier.fit(x_train,y_train)"
   ]
  },
  {
   "cell_type": "code",
   "execution_count": 5,
   "id": "b999794a",
   "metadata": {},
   "outputs": [
    {
     "name": "stdout",
     "output_type": "stream",
     "text": [
      "Accuracy is :  0.9714285714285714\n"
     ]
    }
   ],
   "source": [
    "# Testing & Checking the Accuracy of Model\n",
    "accuracy= classifier.score(x_test, y_test)\n",
    "print(\"Accuracy is : \", accuracy)"
   ]
  },
  {
   "cell_type": "code",
   "execution_count": 6,
   "id": "a0fba78e",
   "metadata": {},
   "outputs": [
    {
     "name": "stdout",
     "output_type": "stream",
     "text": [
      "[4]\n",
      "\n",
      " A Truck Passes From the Camera\n"
     ]
    }
   ],
   "source": [
    "example_measures = np.array([1,6,1,1,1,10,6,2,1])\n",
    "example_measures = example_measures.reshape(1, -1)\n",
    "pred = classifier.predict(example_measures)\n",
    "print(pred)\n",
    "\n",
    "if pred==2:\n",
    "    print(\"A Car Passes From the Camera\")\n",
    "else:\n",
    "    print(\"\\n A Truck Passes From the Camera\")"
   ]
  },
  {
   "cell_type": "code",
   "execution_count": null,
   "id": "887655fc",
   "metadata": {},
   "outputs": [],
   "source": []
  }
 ],
 "metadata": {
  "kernelspec": {
   "display_name": "Python 3",
   "language": "python",
   "name": "python3"
  },
  "language_info": {
   "codemirror_mode": {
    "name": "ipython",
    "version": 3
   },
   "file_extension": ".py",
   "mimetype": "text/x-python",
   "name": "python",
   "nbconvert_exporter": "python",
   "pygments_lexer": "ipython3",
   "version": "3.8.8"
  }
 },
 "nbformat": 4,
 "nbformat_minor": 5
}
